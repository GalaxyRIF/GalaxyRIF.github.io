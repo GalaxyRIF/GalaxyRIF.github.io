{
 "cells": [
  {
   "cell_type": "code",
   "execution_count": 2,
   "metadata": {},
   "outputs": [],
   "source": [
    "import sympy as sp\n",
    "from IPython.display import display, Math, Latex\n",
    "sp.init_printing()"
   ]
  },
  {
   "cell_type": "markdown",
   "metadata": {},
   "source": [
    "### A python class iplementing the quadratic field"
   ]
  },
  {
   "cell_type": "code",
   "execution_count": 1,
   "metadata": {},
   "outputs": [],
   "source": [
    "class Quad:\n",
    "    def __init__(self,N,a,b):\n",
    "        self.N=N\n",
    "        self.a=a\n",
    "        self.b=b\n",
    "    \n",
    "    def __add__(self,other):\n",
    "        # other is quadnum\n",
    "        if self.N==other.N:\n",
    "            return Quad(self.N,self.a+other.a,self.b+other.b)\n",
    "\n",
    "    def __radd__(self,other):\n",
    "        # other is quadnum\n",
    "        return self.__add__(other)\n",
    "\n",
    "    def __mul__(self,other):\n",
    "        # other is quadnum\n",
    "        if self.N==other.N:\n",
    "            return Quad(self.N,self.a*other.a+self.N*self.b*other.b,self.b*other.a+self.a*other.b)\n",
    "\n",
    "    def __rmul__(self,other):\n",
    "        # other is quadnum\n",
    "        return self.mul(other)\n",
    "    \n",
    "    def is_unit(self):\n",
    "        if abs(self.norm())==1:\n",
    "            return True\n",
    "        else:\n",
    "            return False\n",
    "\n",
    "    def norm(self):\n",
    "        return (self.a)**2-((self.b)**2)*self.N\n",
    "        # # type1: N(a+bd)=(a+bd)(a-bd)=a^2-b^2*N\n",
    "        # if self.N<0:\n",
    "        #     return (self.a)**2-(self.b)**2*self.N\n",
    "        # # type2: N(a+bd)=(a+bd)(a-bd)=|a^2-b^2*N|\n",
    "        # elif self.N>0:\n",
    "        #     return abs((self.a)**2+(self.b)**2*self.N)\n",
    "\n",
    "    def n(self):\n",
    "        return self.norm()\n",
    "\n",
    "    def __str__(self) -> str:\n",
    "        if self.b>=0:\n",
    "            return f'{self.a}+{self.b}sqrt{self.N}'\n",
    "        elif self.b<0:\n",
    "            return f'{self.a}{self.b}sqrt{self.N}'\n",
    "\n",
    "    def __repr__(self) -> str:\n",
    "        if self.b>0:\n",
    "            return f'{self.a}+{self.b}\\\\sqrt{self.N}'\n",
    "        else:\n",
    "            return f'{self.a}+{self.b}\\\\sqrt{self.N}'\n",
    "            \n",
    "    def _repr_latex_(self) -> str:\n",
    "        if self.a==0 and self.b==0:\n",
    "            return '$0$'\n",
    "        elif self.a==0:\n",
    "            return f'${self.b}\\\\sqrt {self.N}$'\n",
    "        elif self.b==0:\n",
    "            return f'${self.a}$'\n",
    "        if self.b>0:\n",
    "            return '${%s}+{%s}\\\\sqrt{%s}$'%(self.a,self.b,self.N)#f'${self.a}+{self.b}\\\\sqrt{self.N}$'\n",
    "        else:\n",
    "            return '${%s}{%s}\\\\sqrt{%s}$'%(self.a,self.b,self.N)#f'${self.a}{self.b}\\\\sqrt\\{self.N}$'\n",
    "        "
   ]
  },
  {
   "cell_type": "code",
   "execution_count": 48,
   "metadata": {},
   "outputs": [
    {
     "data": {
      "text/latex": [
       "${2}{-1}\\sqrt{-13}$"
      ],
      "text/plain": [
       "2+-1\\sqrt-13"
      ]
     },
     "metadata": {},
     "output_type": "display_data"
    },
    {
     "data": {
      "text/latex": [
       "${7}+{8}\\sqrt{-13}$"
      ],
      "text/plain": [
       "7+8\\sqrt-13"
      ]
     },
     "metadata": {},
     "output_type": "display_data"
    },
    {
     "data": {
      "text/latex": [
       "${9}+{7}\\sqrt{-13}$"
      ],
      "text/plain": [
       "9+7\\sqrt-13"
      ]
     },
     "metadata": {},
     "output_type": "display_data"
    },
    {
     "data": {
      "text/latex": [
       "${118}+{9}\\sqrt{-13}$"
      ],
      "text/plain": [
       "118+9\\sqrt-13"
      ]
     },
     "metadata": {},
     "output_type": "display_data"
    },
    {
     "data": {
      "text/plain": [
       "True"
      ]
     },
     "execution_count": 48,
     "metadata": {},
     "output_type": "execute_result"
    }
   ],
   "source": [
    "# Example\n",
    "x=Quad(-13,2,-1) # Creating number x=2-sqrt(-13)\n",
    "y=Quad(-13,7,8) # Creating number y=7+8sqrt(-13)\n",
    "display(x,y)\n",
    "# Operation\n",
    "display (x+y,x*y)\n",
    "# find norm\n",
    "x.n()\n",
    "# check if it's a unit\n",
    "z=Quad(-3,1/2,1/2) # z=(1+sqrt(3))/2, which is a root\n",
    "z.is_unit()"
   ]
  },
  {
   "cell_type": "markdown",
   "metadata": {},
   "source": [
    "### Quadratic Ring of discriminant $d$\n",
    "\n",
    "$$\n",
    "\\mathcal{O}_d=\\left\\{\n",
    "\\begin{aligned}\n",
    "\\mathbb{Z}[\\frac{\\sqrt{d}}{2}]   &=\\{a+b\\frac{\\sqrt{d}}{2},a,b\\in\\mathbb{Z}\\} & d\\equiv0(4)\\\\\n",
    "\\mathbb{Z}[\\frac{1+\\sqrt{d}}{2}]  &=\\{a+b\\frac{1+\\sqrt{d}}{2},a,b\\in\\mathbb{Z}\\} &d\\equiv1(4)\\\\\n",
    "\\end{aligned}\\right.\n",
    "$$\n",
    "$$\\text{Set of fractional ideals of}\\,\\mathcal{O}_d: I(\\mathcal{O}_d)$$\n",
    "$$\\text{Set of principal fractional ideals of }\\mathcal{O}_d: I(\\mathcal{O}_d)$$"
   ]
  },
  {
   "cell_type": "markdown",
   "metadata": {},
   "source": [
    "### Class number calculation"
   ]
  },
  {
   "cell_type": "code",
   "execution_count": 27,
   "metadata": {},
   "outputs": [],
   "source": [
    "def finder(d):\n",
    "    # Finding class number of a given discriminant\n",
    "\t# d is even\n",
    "\t# returns a number of triples [a,b,c], each corresponds to a class\n",
    "\tl=int((abs(d)/3)**0.5)\n",
    "\tres=[]\n",
    "\tfor a in range(1,l+1):\n",
    "\t\tfor b in range(a+1):\n",
    "\t\t\tc=(b**2-d)/(4*a)\n",
    "\t\t\tif (abs(c-int(c))<0.00001) and (c>=a):\n",
    "\t\t\t\tif b==0:\n",
    "\t\t\t\t\tres.append([a,b,int(c)])\n",
    "\t\t\t\telif a!=abs(b):\n",
    "\t\t\t\t\tres.append([a,b,int(c)])\n",
    "\t\t\t\t\tres.append([a,-1*b,int(c)])\n",
    "\t\t\t\telif a==abs(b):\n",
    "\t\t\t\t\tres.append([a,abs(b),int(c)])\n",
    "\treturn res"
   ]
  },
  {
   "cell_type": "code",
   "execution_count": 30,
   "metadata": {},
   "outputs": [
    {
     "name": "stdout",
     "output_type": "stream",
     "text": [
      "[[1, 1, 1]]\n",
      "[[1, 1, 8], [2, 1, 4], [2, -1, 4]]\n",
      "1\n",
      "3\n"
     ]
    }
   ],
   "source": [
    "# Examples\n",
    "\n",
    "# Use finder(d) to find classes\n",
    "print(finder(-3)) # d=5\n",
    "print(finder(-31)) # d=31\n",
    "\n",
    "# Use len(finder(d)) to calculate class number\n",
    "print(len(finder(-7))) # d=5\n",
    "print(len(finder(-15))) # d=31"
   ]
  }
 ],
 "metadata": {
  "kernelspec": {
   "display_name": "Python 3.8.6 64-bit",
   "language": "python",
   "name": "python3"
  },
  "language_info": {
   "codemirror_mode": {
    "name": "ipython",
    "version": 3
   },
   "file_extension": ".py",
   "mimetype": "text/x-python",
   "name": "python",
   "nbconvert_exporter": "python",
   "pygments_lexer": "ipython3",
   "version": "3.8.6"
  },
  "orig_nbformat": 4,
  "vscode": {
   "interpreter": {
    "hash": "d49534aeac570b8c1ff5aad96999749827b7ba0dffb6e4219914503286213fd0"
   }
  }
 },
 "nbformat": 4,
 "nbformat_minor": 2
}
